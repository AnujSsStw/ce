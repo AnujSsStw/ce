{
  "cells": [
    {
      "cell_type": "code",
      "execution_count": null,
      "metadata": {
        "id": "8z5UdhTf3oaM"
      },
      "outputs": [],
      "source": [
        "import random\n",
        "ai_related_texts = [\n",
        "    \"AI is transforming industries.\",\n",
        "    \"Machine learning algorithms are used for data analysis.\",\n",
        "    \"Deep learning models are complex neural networks.\",\n",
        "    \"Artificial intelligence is a fascinating field.\",\n",
        "    \"Natural language processing is used in chatbots.\",\n",
        "    \"Quantum computing and its potential.\",\n",
        "    \"Virtual reality in gaming and simulations.\",\n",
        "    \"AI-driven healthcare advancements.\",\n",
        "    \"Robotics and automation shaping the future.\",\n",
        "    \"AI ethics and responsible AI development.\",\n",
        "    \"The role of AI in autonomous vehicles.\",\n",
        "    \"AI-powered recommendation systems.\",\n",
        "    \"Predictive analytics and AI applications.\",\n",
        "    \"AI in financial trading and investment.\",\n",
        "    \"Enhancing cybersecurity with AI.\",\n",
        "    \"AI-powered language translation.\",\n",
        "    \"AI's impact on customer service.\",\n",
        "    \"Ethical considerations in AI research.\",\n",
        "    \"AI in creative arts and music composition.\",\n",
        "    \"AI for personalized medicine.\",\n",
        "    \"AI algorithms analyze vast datasets to uncover hidden insights.\",\n",
        "    \"Machine learning empowers AI systems to learn and adapt autonomously.\",\n",
        "    \"Natural language processing enables AI to understand and generate human-like text.\",\n",
        "    \"AI-driven automation streamlines repetitive tasks, boosting productivity.\",\n",
        "    \"Ethical considerations guide AI development to ensure responsible use.\",\n",
        "    \"AI-powered chatbots provide instant customer support, enhancing user experience.\",\n",
        "    \"Deep learning architectures mimic human brain structures for complex tasks.\",\n",
        "    \"AI assists in medical diagnoses, improving accuracy and patient care.\",\n",
        "    \"Robotics and AI collaborate to create smarter, more capable machines.\",\n",
        "    \"AI-driven recommendation systems personalize content for users.\",\n",
        "    \"Autonomous vehicles rely on AI for navigation and decision-making.\",\n",
        "    \"AI-generated art challenges traditional notions of creativity.\",\n",
        "    \"Quantum computing accelerates AI research, solving intricate problems.\",\n",
        "    \"AI interprets facial expressions for emotion recognition.\",\n",
        "    \"Predictive analytics leverage AI to forecast future trends.\",\n",
        "    \"AI explores space, aiding in astronomy and space exploration.\",\n",
        "    \"AI algorithms enhance cybersecurity, detecting and preventing threats.\",\n",
        "    \"Virtual assistants like Siri and Alexa rely on AI for voice recognition.\",\n",
        "    \"AI augments human capabilities, enabling us to achieve more.\",\n",
        "    \"AI analyzes climate data to address environmental challenges.\",\n",
        "    \"AI-powered language translation breaks down global communication barriers.\",\n",
        "    \"Neural networks enable AI to identify patterns in complex data.\",\n",
        "    \"AI-generated music sparks new creative possibilities.\",\n",
        "    \"AI in education personalizes learning experiences for students.\",\n",
        "    \"AI-driven financial algorithms optimize investment strategies.\",\n",
        "    \"AI assists in drug discovery, speeding up pharmaceutical research.\",\n",
        "    \"AI simulates and predicts outcomes in scientific simulations.\",\n",
        "    \"AI automates supply chain management, reducing inefficiencies.\",\n",
        "    \"AI-driven gaming creates immersive virtual worlds.\",\n",
        "    \"AI supports mental health diagnosis and treatment.\",\n",
        "    \"AI analyzes social media data for sentiment analysis.\",\n",
        "    \"AI democratizes access to information and services.\",\n",
        "    \"AI-powered drones perform tasks from surveillance to delivery.\",\n",
        "    \"AI enhances accessibility for people with disabilities.\",\n",
        "    \"AI-generated content challenges traditional content creation.\",\n",
        "    \"AI monitors wildlife and helps in conservation efforts.\",\n",
        "    \"AI algorithms optimize energy consumption in smart grids.\",\n",
        "    \"AI-powered farming improves agricultural efficiency.\",\n",
        "    \"AI interprets medical images for accurate diagnoses.\",\n",
        "    \"AI-driven fashion design sparks innovative trends.\",\n",
        "    \"AI collaborates with humans in creative endeavors.\",\n",
        "    \"AI analyzes legal documents for faster research.\",\n",
        "    \"AI-driven personal assistants manage schedules and tasks.\",\n",
        "    \"AI identifies fraudulent activities in financial transactions.\",\n",
        "    \"AI-powered language models write code and debug software.\",\n",
        "    \"AI enhances user interfaces through natural interactions.\",\n",
        "    \"AI in sports provides insights for performance optimization.\",\n",
        "    \"AI automates routine administrative tasks in businesses.\",\n",
        "    \"AI-powered research accelerates scientific breakthroughs.\",\n",
        "    \"AI analyzes historical data to make economic predictions.\",\n",
        "    \"AI-driven virtual reality transforms entertainment experiences.\",\n",
        "    \"AI interprets medical signals for remote patient monitoring.\",\n",
        "    \"AI-generated recipes inspire innovative culinary creations.\",\n",
        "    \"AI-driven urban planning improves city infrastructure.\",\n",
        "    \"AI-powered learning platforms revolutionize online education.\",\n",
        "    \"AI assists in disaster response and recovery efforts.\",\n",
        "    \"AI-driven content curation tailors news and information.\",\n",
        "    \"AI in architecture designs energy-efficient buildings.\",\n",
        "    \"AI enhances e-commerce with personalized shopping experiences.\",\n",
        "    \"AI analyzes legal cases for relevant precedents.\",\n",
        "    \"AI-powered social robots enhance companionship for the elderly.\",\n",
        "    \"AI-driven sentiment analysis gauges public opinion.\",\n",
        "    \"AI automates quality control in manufacturing processes.\",\n",
        "    \"AI interprets weather data for accurate forecasts.\",\n",
        "    \"AI-powered marketing optimizes advertising campaigns.\",\n",
        "    \"AI assists in archaeological research and artifact analysis.\",\n",
        "    \"AI-driven brain-computer interfaces enable new communication methods.\",\n",
        "    \"AI in logistics improves distribution and supply chain management.\",\n",
        "    \"AI-generated literature challenges traditional storytelling.\",\n",
        "    \"AI-powered exploration delves into the mysteries of the universe.\",\n",
        "    \"AI interprets brain scans for neurological diagnoses.\",\n",
        "    \"AI-driven sustainability initiatives address environmental challenges.\",\n",
        "    \"AI enhances personalized healthcare through data analysis.\",\n",
        "    \"AI-powered financial advisors assist in investment decisions.\",\n",
        "    \"AI analyzes social trends for cultural insights.\",\n",
        "    \"AI-driven fashion platforms recommend style choices.\",\n",
        "    \"AI in psychology aids in understanding human behavior.\",\n",
        "    \"AI automates inventory management for businesses.\",\n",
        "    \"AI-powered art creates new forms of visual expression.\",\n",
        "    \"AI interprets business data for informed decision-making.\",\n",
        "    \"AI-driven voice assistants enhance smart home experiences.\",\n",
        "    \"AI in transportation improves traffic management.\",\n",
        "    \"AI-powered gene editing advances biotechnology.\",\n",
        "    \"AI analyzes online behavior for personalized marketing.\",\n",
        "    \"AI-driven wildlife tracking aids in conservation efforts.\",\n",
        "    \"AI enhances personalized fitness and wellness plans.\",\n",
        "    \"AI-powered financial analysis predicts market trends.\",\n",
        "    \"AI in astronomy discovers new celestial phenomena.\",\n",
        "    \"AI-driven dating apps match users based on compatibility.\",\n",
        "    \"AI interprets music patterns for creative composition.\",\n",
        "    \"AI-powered agriculture optimizes crop yields.\",\n",
        "    \"AI analyzes social networks for influencer marketing.\",\n",
        "    \"AI-driven medical robots assist in surgeries.\",\n",
        "    \"AI enhances cybersecurity through threat detection.\",\n",
        "    \"AI-powered renewable energy systems optimize resource usage.\",\n",
        "    \"AI interprets ancient texts for historical insights.\",\n",
        "    \"AI-driven customer service bots improve user satisfaction.\",\n",
        "    \"AI in construction streamlines project management.\",\n",
        "    \"AI-generated fashion designs inspire innovative trends.\",\n",
        "    \"AI-powered language models assist in writing and communication.\",\n",
        "    \"AI-driven quantum computing revolutionizes complex problem-solving.\",\n",
        "    \"AI interprets space data for planetary exploration.\",\n",
        "    \"AI-powered emotional intelligence enhances human interactions.\",\n",
        "    \"AI-driven personalized medicine tailors treatments to individuals.\",\n",
        "    \"AI analyzes economic indicators for financial forecasts.\",\n",
        "    \"AI-powered gaming adapts challenges based on player skills.\",\n",
        "    \"AI in education facilitates interactive and adaptive learning.\",\n",
        "    \"AI-driven fraud detection safeguards financial transactions.\",\n",
        "    \"AI-powered creativity tools inspire new artistic expressions.\",\n",
        "    \"AI interprets environmental data for conservation strategies.\",\n",
        "    \"AI-driven speech synthesis creates lifelike vocal avatars.\",\n",
        "    \"AI in mental health offers virtual therapy and support.\",\n",
        "    \"AI-powered language models translate ancient scripts.\",\n",
        "    \"AI-driven energy management optimizes power consumption.\",\n",
        "    \"AI enhances sports coaching through performance analysis.\",\n",
        "    \"AI-powered disaster prediction aids in risk assessment.\",\n",
        "    \"AI interprets user preferences for personalized recommendations.\",\n",
        "    \"AI-driven autonomous drones perform search and rescue missions.\",\n",
        "    \"AI-powered brain simulations advance neuroscience research.\",\n",
        "    \"AI in real estate predicts property market trends.\",\n",
        "    \"AI-driven wildlife drones monitor endangered species.\",\n",
        "    \"AI interprets archaeological remains for historical insights.\",\n",
        "    \"AI-powered customer sentiment analysis guides business strategies.\",\n",
        "    \"AI-driven virtual travel offers immersive explorations.\",\n",
        "    \"AI in fashion predicts future style trends.\",\n",
        "    \"AI-powered renewable energy forecasting optimizes production.\",\n",
        "    \"AI analyzes human behavior patterns for sociological research.\",\n",
        "    \"AI-driven medical imaging enhances diagnostic accuracy.\",\n",
        "    \"AI-powered transportation systems optimize traffic flow.\",\n",
        "    \"AI interprets seismic data for earthquake prediction.\",\n",
        "    \"AI-driven language models facilitate cross-cultural communication.\",\n",
        "    \"AI-powered financial planning assists in wealth management.\",\n",
        "    \"AI in oceanography explores marine ecosystems.\",\n",
        "    \"AI-driven creativity platforms inspire innovative solutions.\",\n",
        "    \"AI-powered sentiment analysis guides marketing campaigns.\",\n",
        "    \"AI interprets historical archives for cultural preservation.\",\n",
        "    \"AI-driven personalized nutrition plans promote healthy lifestyles.\",\n",
        "    \"AI-powered weather forecasting improves accuracy.\",\n",
        "    \"AI in music composition generates harmonious melodies.\",\n",
        "    \"AI-driven social robots promote companionship and mental well-being.\",\n",
        "    \"AI-powered traffic management enhances urban mobility.\",\n",
        "    \"AI interprets medical research articles for data extraction.\",\n",
        "    \"AI-driven disaster response systems aid in emergency situations.\",\n",
        "    \"AI-powered virtual reality therapy treats phobias and anxieties.\",\n",
        "    \"AI in agriculture monitors crop health and pest control.\",\n",
        "    \"AI-driven content creation platforms produce engaging materials.\",\n",
        "    \"AI-powered financial risk assessment guides investment decisions.\",\n",
        "    \"AI interprets ancient languages for deciphering scripts.\",\n",
        "    \"AI-driven language models facilitate cross-lingual communication.\",\n",
        "    \"AI-powered urban planning optimizes infrastructure development.\",\n",
        "    \"AI in manufacturing improves production line efficiency.\",\n",
        "    \"AI-driven data analysis enhances scientific research.\",\n",
        "    \"AI-powered personalized marketing targets specific customer needs.\",\n",
        "    \"AI interprets satellite imagery for environmental monitoring.\",\n",
        "    \"AI-driven rehabilitation robots aid in physical therapy.\",\n",
        "    \"AI-powered facial recognition enhances security systems.\",\n",
        "    \"AI in astronomy identifies exoplanets and distant galaxies.\",\n",
        "    \"AI-driven virtual fashion shows redefine the industry.\",\n",
        "    \"AI-powered sentiment analysis gauges public opinion on social issues.\",\n",
        "    \"AI interprets geospatial data for mapping and navigation.\",\n",
        "    \"AI-driven language models assist in language learning.\",\n",
        "    \"AI-powered financial fraud prevention safeguards transactions.\",\n",
        "    \"AI in automotive technology advances autonomous driving.\",\n",
        "    \"AI-driven disaster recovery systems restore critical infrastructure.\",\n",
        "    \"AI-powered virtual museums bring historical artifacts to life.\",\n",
        "    \"AI interprets medical data for drug discovery.\",\n",
        "    \"AI-driven wildlife conservation drones combat poaching.\",\n",
        "    \"AI-powered recommendation engines personalize entertainment choices.\",\n",
        "    \"AI in psychology diagnoses and treats mental health conditions.\",\n",
        "    \"AI-driven chatbots provide companionship for the elderly.\",\n",
        "    \"AI-powered traffic analytics improve urban transportation planning.\",\n",
        "    \"AI interprets archaeological sites for historical insights.\",\n",
        "    \"AI-driven virtual reality gaming offers immersive experiences.\",\n",
        "    \"AI-powered medical chatbots offer health advice.\",\n",
        "    \"AI in agriculture monitors soil health and irrigation.\",\n",
        "    \"AI-driven content optimization improves website performance.\",\n",
        "    \"AI-powered financial forecasting guides budget planning.\",\n",
        "    \"AI interprets historical artwork for cultural preservation.\",\n",
        "    \"AI-driven translation tools bridge language barriers.\",\n",
        "    \"AI-powered disaster response drones aid in relief efforts.\",\n",
        "    \"AI in robotics enhances industrial automation.\",\n",
        "    \"AI-driven personal finance apps offer budgeting assistance.\",\n",
        "    \"AI-powered chatbots provide mental health support.\",\n",
        "    \"AI interprets ecological data for conservation strategies.\",\n",
        "    \"AI-driven personalized fitness coaches guide workouts.\",\n",
        "    \"AI-powered medical diagnostics improve disease detection.\",\n",
        "    \"AI in education offers personalized tutoring and learning paths.\",\n",
        "    \"AI-driven content creation tools aid in storytelling.\",\n",
        "    \"AI-powered cybersecurity systems defend against cyber threats.\",\n",
        "    \"AI interprets ancient artifacts for historical context.\",\n",
        "    \"AI-driven language models enable real-time translation.\",\n",
        "    \"AI-powered disaster prediction models enhance preparedness.\",\n",
        "    \"AI in architecture designs sustainable and innovative structures.\",\n",
        "    \"AI-driven customer service bots handle inquiries and support.\",\n",
        "    \"AI-powered fashion styling apps recommend outfits.\",\n",
        "    \"AI interprets cultural symbols for anthropological research.\",\n",
        "    \"AI-driven personalized meditation apps promote mindfulness.\",\n",
        "    \"AI-powered medical robotics assist in surgeries.\",\n",
        "    \"AI in transportation optimizes logistics and route planning.\",\n",
        "    \"AI-driven content generation transforms marketing strategies.\"\n",
        "\n",
        "]\n",
        "\n",
        "non_ai_related_texts = [\n",
        "    \"The sunset was beautiful.\",\n",
        "    \"Cats and dogs are popular pets.\",\n",
        "    \"Cooking recipes for delicious meals.\",\n",
        "    \"Gardening tips for growing healthy plants.\",\n",
        "    \"Traveling to exotic destinations.\",\n",
        "    \"Exploring historical landmarks.\",\n",
        "    \"Learning to play musical instruments.\",\n",
        "    \"Understanding human psychology.\",\n",
        "    \"Innovations in renewable energy sources.\",\n",
        "    \"Painting and artistic creations.\",\n",
        "    \"The history of ancient civilizations.\",\n",
        "    \"Environmental conservation efforts.\",\n",
        "    \"Space exploration and astronomy.\",\n",
        "    \"The importance of exercise for health.\",\n",
        "    \"Nutrition and balanced diets.\",\n",
        "    \"Mindfulness and meditation practices.\",\n",
        "    \"Fashion trends and style tips.\",\n",
        "    \"The impact of social media on society.\",\n",
        "    \"Books and literature recommendations.\",\n",
        "    \"Movie and TV show reviews.\",\n",
        "    \"The aroma of freshly baked bread enveloped the cozy bakery, inviting all who passed by.\",\n",
        "    \"Waves crashed against the rugged cliffs, their endless dance with the shore a timeless spectacle.\",\n",
        "    \"The laughter of children echoed through the park, a joyful chorus on a sunny afternoon.\",\n",
        "    \"An old leather-bound book sat on the antique shelf, its pages holding stories of a bygone era.\",\n",
        "    \"The flickering candlelight cast shadows that danced on the walls, creating an atmosphere of serenity.\",\n",
        "    \"Stars glittered like diamonds in the velvety night sky, a breathtaking celestial display.\",\n",
        "    \"Raindrops tapped gently on the windowpane, creating a soothing lullaby for a peaceful evening.\",\n",
        "    \"The old swing creaked as it swayed in the gentle breeze, a nostalgic memory of childhood.\",\n",
        "    \"Vibrant wildflowers dotted the meadow, a riot of colors against the backdrop of green.\",\n",
        "    \"A handwritten letter, sealed with wax, held heartfelt words that crossed distances and time.\",\n",
        "    \"The first snowfall blanketed the landscape, transforming it into a winter wonderland.\",\n",
        "    \"The bustling market was a kaleidoscope of sights and sounds, a vibrant tapestry of cultures.\",\n",
        "    \"The scent of a campfire wafted through the air, evoking memories of shared stories under the stars.\",\n",
        "    \"The intricate mosaic on the cathedral's ceiling told a silent story of devotion and artistry.\",\n",
        "    \"Leaves rustled as a squirrel darted through the trees, a playful acrobat in the forest.\",\n",
        "    \"A vintage typewriter sat on the desk, its keys poised to bring imagination to life with each tap.\",\n",
        "    \"The sound of ocean waves was a soothing symphony, a reminder of the sea's timeless rhythm.\",\n",
        "    \"A pot of simmering soup filled the kitchen with a comforting aroma, a remedy for the soul.\",\n",
        "    \"The old lighthouse stood sentinel on the rocky cliff, guiding ships with its steady beam.\",\n",
        "    \"A melody played on the piano painted emotions that words could not convey.\",\n",
        "    \"The ancient ruins whispered tales of civilizations long past, etched in weathered stone.\",\n",
        "    \"A patchwork quilt, lovingly handcrafted, held the warmth and stories of generations.\",\n",
        "    \"Butterflies danced among the flowers, their delicate wings a celebration of nature's artistry.\",\n",
        "    \"The horizon blazed with hues of orange and pink as the sun bid farewell to another day.\",\n",
        "    \"The sound of laughter from a nearby cafe painted the streets with an atmosphere of mirth.\",\n",
        "    \"A row of colorful umbrellas lined the sandy beach, providing shade and a cheerful sight.\",\n",
        "    \"The aroma of coffee mingled with the pages of well-loved books in the quaint bookstore.\",\n",
        "    \"Crisp autumn leaves crunched underfoot, a symphony of nature's transition.\",\n",
        "    \"The distant call of a songbird carried on the wind, a musical greeting from the woods.\",\n",
        "    \"The artist's brush danced across the canvas, capturing a fleeting moment in strokes of paint.\",\n",
        "    \"Candles flickered in the dimly lit room, casting a soft glow and a sense of calm.\",\n",
        "    \"The cobblestone streets led to hidden alleys, each one holding its own secret charm.\",\n",
        "    \"The sunflower field stretched endlessly, a sea of yellow faces following the sun's path.\",\n",
        "    \"The melody of a violin floated through the evening air, evoking emotions words could not convey.\",\n",
        "    \"The intricate lacework of frost adorned the windowpane, a testament to winter's touch.\",\n",
        "    \"The distant mountains wore a crown of mist, a regal landscape shrouded in mystery.\",\n",
        "    \"The gentle rustling of leaves created a symphony as the forest whispered its ancient tales.\",\n",
        "    \"A playful breeze ruffled the pages of a notebook, carrying the thoughts of an aspiring writer.\",\n",
        "    \"The quiet hum of a spinning top filled the room, a simple toy holding timeless fascination.\",\n",
        "    \"A field of fireflies lit up the night, their delicate glow a magical dance of light.\",\n",
        "    \"The scent of blooming lilacs permeated the air, a fragrant reminder of spring's arrival.\",\n",
        "    \"A row of antique lanterns illuminated the path, guiding travelers through the night.\",\n",
        "    \"A vintage map hung on the wall, marking the places where dreams and adventures intertwined.\",\n",
        "    \"The scent of pine needles hung in the air as the forest floor welcomed each footstep.\",\n",
        "    \"The distant rumble of thunder echoed through the valley, a prelude to the oncoming storm.\",\n",
        "    \"A mosaic of seashells adorned the sand, a natural art installation crafted by the sea.\",\n",
        "    \"The intricate lace on a wedding gown told a story of love and craftsmanship.\",\n",
        "    \"The rhythmic tapping of rain on the roof created a cozy symphony, perfect for an afternoon nap.\",\n",
        "    \"A bouquet of wildflowers adorned the wooden table, a cheerful centerpiece for a rustic meal.\",\n",
        "    \"The old watermill turned lazily in the breeze, a charming relic of a bygone era.\",\n",
        "    \"The ancient oak tree stood sentinel in the heart of the meadow, its gnarled branches reaching for the sky.\",\n",
        "    \"The quaint village square buzzed with activity, a gathering place where community thrived.\",\n",
        "    \"A kaleidoscope of leaves swirled in the autumn breeze, painting the ground with nature's artwork.\",\n",
        "    \"The rhythmic clatter of a train echoed through the station, announcing arrivals and departures.\",\n",
        "    \"A full moon cast a silvery glow on the midnight landscape, turning shadows into mysteries.\",\n",
        "    \"The sound of church bells carried on the wind, marking the passage of time in melodious chimes.\",\n",
        "    \"A river meandered through the valley, its waters a mirror for the world above.\",\n",
        "    \"A cozy cabin nestled in the woods, its chimney puffing smoke as a warm fire crackled within.\",\n",
        "    \"The scent of blooming roses wafted from the garden, a fragrant invitation to stop and admire.\",\n",
        "    \"The market stalls overflowed with colorful produce, a feast for the senses and the palate.\",\n",
        "    \"The chatter of a bustling cafe spilled out onto the cobblestone street, inviting passersby to join.\",\n",
        "    \"The symphony of crickets and frogs serenaded the night, a soothing chorus beneath the stars.\",\n",
        "    \"A winding trail led to a hidden waterfall, its cascading waters a tranquil oasis in the wilderness.\",\n",
        "    \"A vintage record player spun melodies of yesteryears, filling the room with timeless tunes.\",\n",
        "    \"A tapestry of constellations adorned the night sky, a celestial masterpiece for all to behold.\",\n",
        "    \"The scent of woodsmoke hung in the air as campers shared stories around the crackling fire.\",\n",
        "    \"A lighthouse cast its guiding beam across the sea, a beacon of hope and safety.\",\n",
        "    \"The vibrant colors of a sunrise painted the horizon, a promise of a new day's possibilities.\",\n",
        "    \"The cobbled alleyways of an ancient city held secrets whispered through the ages.\",\n",
        "    \"A field of sunflowers turned their faces to the sun, a living tribute to warmth and light.\",\n",
        "    \"The rhythmic swaying of a hammock under the shade of trees beckoned rest and relaxation.\",\n",
        "    \"A canopy of stars stretched across the night, inviting dreams to take flight in the vastness.\",\n",
        "    \"The scent of pine greeted hikers as they ventured into the towering forest, a scent of adventure.\",\n",
        "    \"A potter's wheel spun clay into art, shaping form from a simple lump of earth.\",\n",
        "    \"The symphony of rain played on the rooftop, a gentle melody of nature's rejuvenation.\",\n",
        "    \"The aroma of freshly brewed coffee lured early risers to the neighborhood cafe, a haven of warmth.\",\n",
        "    \"A bumblebee danced from flower to flower, pollinating the garden with its delicate touch.\",\n",
        "    \"A family of ducks glided gracefully across the serene pond, leaving ripples in their wake.\",\n",
        "    \"The old windmill's blades turned lazily in the breeze, a sentinel of a simpler time.\",\n",
        "    \"The sound of church bells mingled with the voices of choir members, filling the air with harmony.\",\n",
        "    \"A cozy cabin nestled beside a bubbling brook, a retreat from the demands of everyday life.\",\n",
        "    \"A rainbow stretched across the sky after the storm, a vivid promise of brighter days ahead.\",\n",
        "    \"The rhythmic lapping of waves against the shore created a soothing lullaby by the sea.\",\n",
        "    \"The scent of lavender hung in the garden, inviting bees to gather nectar from its blooms.\",\n",
        "    \"A rustic barn stood against the backdrop of rolling hills, a symbol of agricultural heritage.\",\n",
        "    \"The laughter of children echoed through the park, their carefree spirits a source of joy.\",\n",
        "    \"A field of daisies stretched to the horizon, a testament to the beauty of simplicity.\",\n",
        "    \"The distant howl of a lone wolf carried on the wind, a reminder of untamed wilderness.\",\n",
        "    \"A hammock swayed gently between two trees, an invitation to sway with the rhythm of nature.\",\n",
        "    \"A row of quaint cottages lined the cobbled street, each one telling its own story of time.\",\n",
        "    \"A river meandered through the valley, a life-giving artery for the surrounding landscape.\",\n",
        "    \"The scent of freshly fallen rain mingled with the earth, a perfume of nature's renewal.\",\n",
        "    \"A sailboat glided across the mirror-like surface of the lake, carried by a gentle breeze.\",\n",
        "    \"A field of fireflies twinkled like stars on a summer night, a magical dance in the darkness.\",\n",
        "    \"The aroma of a home-cooked meal filled the kitchen, a symphony of flavors awaiting indulgence.\",\n",
        "    \"A field of tulips stretched toward the sun, their vibrant colors a celebration of spring's arrival.\",\n",
        "    \"The rhythmic chiming of a grandfather clock marked the passage of time in the cozy living room.\",\n",
        "    \"The distant call of a loon echoed across the tranquil lake, a haunting melody of the wild.\",\n",
        "    \"A rustic wooden bridge spanned the meandering stream, inviting explorers to cross its path.\",\n",
        "    \"The laughter of friends gathered around a bonfire filled the night with warmth and camaraderie.\",\n",
        "    \"A tapestry of fall leaves blanketed the forest floor, a mosaic of reds, oranges, and golds.\",\n",
        "    \"The scent of freshly mowed grass lingered in the air, a reminder of the care put into the garden.\",\n",
        "    \"A cozy reading nook nestled by the window, bathed in soft sunlight and inviting serenity.\",\n",
        "    \"A row of colorful kites soared high in the sky, a playful dance with the wind's invisible partner.\",\n",
        "    \"The rhythmic pounding of waves against the shore created a natural percussion of the sea.\",\n",
        "    \"A trail of footprints led through the sandy beach, a story of a solitary wanderer by the sea.\",\n",
        "    \"The aroma of a home-cooked apple pie wafted from the kitchen, a taste of comfort and nostalgia.\",\n",
        "    \"A pair of old leather boots stood by the door, worn and weathered from years of adventures.\",\n",
        "    \"A symphony of crickets and cicadas filled the summer night, a nocturnal chorus of nature.\",\n",
        "    \"The scent of pine and campfire smoke clung to clothes after a day spent in the woods.\",\n",
        "    \"A babbling brook wove its way through the forest, a silver thread connecting the landscape.\",\n",
        "    \"A blanket of mist hovered over the tranquil lake, shrouding the waters in a veil of mystery.\",\n",
        "    \"A mosaic of colorful leaves adorned the trees, a living masterpiece of autumn's palette.\",\n",
        "    \"The flickering glow of a lantern cast dancing shadows on the walls, a beacon of coziness.\",\n",
        "    \"The aroma of blooming jasmine perfumed the air, a fragrant gift from nature's garden.\",\n",
        "    \"A field of lavender swayed in the breeze, painting the landscape with shades of purple.\",\n",
        "    \"The sound of a crackling fireplace filled the room, providing both warmth and ambiance.\",\n",
        "    \"A flock of birds took flight in synchronized harmony, their wings a dance in the open sky.\",\n",
        "    \"The scent of saltwater hung in the air by the beach, a reminder of the vast ocean beyond.\",\n",
        "    \"A rustic swing hung from a sturdy tree branch, a seat for contemplation and daydreams.\",\n",
        "    \"A family of deer emerged from the forest, their graceful movements a tribute to the wild.\",\n",
        "    \"The sound of rustling leaves heralded the approach of a gentle breeze, a natural embrace.\",\n",
        "    \"A meandering river carved its way through the landscape, a testament to the passage of time.\",\n",
        "    \"The aroma of freshly baked cookies wafted from the kitchen, a sweet promise of indulgence.\",\n",
        "    \"A hammock swung lazily beneath the shade of tall trees, an invitation to relax and unwind.\",\n",
        "    \"A pot of steaming tea warmed cold hands, a comforting ritual on a chilly afternoon.\",\n",
        "    \"The distant rumble of thunder marked the arrival of a summer storm, nature's grand spectacle.\",\n",
        "    \"A meadow of wildflowers swayed in the wind, a chorus of colors and textures in harmony.\",\n",
        "    \"The scent of blooming roses lingered in the air, a testament to nature's delicate artistry.\",\n",
        "    \"A rustic wind chime tinkled softly, its melodic notes carried on the wind like whispers.\",\n",
        "    \"The sound of a babbling brook provided a soothing backdrop to the peaceful forest scene.\",\n",
        "    \"A symphony of birdsong greeted the dawn, a joyful celebration of the new day.\",\n",
        "    \"The scent of freshly fallen rain mingled with earth, a fragrance of renewal after a storm.\",\n",
        "    \"A row of quaint cottages lined the village street, each one a unique story waiting to be told.\",\n",
        "    \"The rhythmic swaying of a hammock beneath a tree invited a moment of quiet reflection.\",\n",
        "    \"A field of sunflowers turned their golden faces toward the sun, a salute to its warmth.\",\n",
        "    \"The scent of a crackling bonfire filled the night air, inviting stories and camaraderie.\",\n",
        "    \"A cozy blanket wrapped snugly around shoulders, a cocoon of comfort on a chilly evening.\",\n",
        "    \"The sound of waves crashing against the shore created a symphony of serenity by the sea.\",\n",
        "    \"A field of dandelions transformed into a sea of delicate wishes, waiting to be blown away.\",\n",
        "    \"The aroma of freshly brewed coffee wafted from the cafe, a tempting invitation to enter.\",\n",
        "    \"A rainbow arched across the sky, a vivid brushstroke on nature's canvas after the rain.\",\n",
        "    \"The rhythmic tapping of rain on the rooftop created a peaceful melody for a rainy day indoors.\",\n",
        "    \"A rustic barn stood proudly in the countryside, a testament to hard work and rural life.\",\n",
        "    \"The scent of pine needles hung in the forest, a fragrant invitation to explore its secrets.\",\n",
        "    \"A harmonious duet of crickets and frogs serenaded the night, a lullaby beneath the stars.\",\n",
        "    \"A vintage typewriter stood on the desk, a relic of an era when words met paper with each keystroke.\",\n",
        "    \"A cozy fireplace crackled, casting a warm glow and inviting relaxation on a cold evening.\",\n",
        "    \"The scent of blooming cherry blossoms perfumed the air, a delicate celebration of spring.\",\n",
        "    \"The rhythmic swaying of a hammock invited a moment of rest beneath the shade of trees.\"\n",
        "]\n",
        "\n",
        "# Generate a balanced dataset with 100 AI-related and 100 non-AI-related samples\n",
        "dataset = [(text, label) for text in ai_related_texts for label in [1]]\n",
        "dataset.extend([(text, label)\n",
        "               for text in non_ai_related_texts for label in [0]])\n",
        "\n",
        "# Shuffle the dataset\n",
        "random.shuffle(dataset)"
      ]
    },
    {
      "cell_type": "code",
      "execution_count": null,
      "metadata": {
        "id": "CjIEFWSyp3z_"
      },
      "outputs": [],
      "source": [
        "import pandas as pd\n",
        "import numpy as np\n",
        "import tensorflow as tf\n",
        "import tensorflow_hub as hub"
      ]
    },
    {
      "cell_type": "code",
      "execution_count": null,
      "metadata": {
        "id": "hGxwgCM7p8pU"
      },
      "outputs": [],
      "source": [
        "df = pd.DataFrame(dataset, columns=['Text', 'AI_or_NOT'])"
      ]
    },
    {
      "cell_type": "code",
      "execution_count": null,
      "metadata": {
        "colab": {
          "base_uri": "https://localhost:8080/",
          "height": 206
        },
        "id": "OIfrpF3zqJB7",
        "outputId": "de0054af-14a6-47a4-d050-201104519d24"
      },
      "outputs": [
        {
          "data": {
            "text/html": [
              "\n",
              "\n",
              "  <div id=\"df-be234497-1976-411e-b18b-2d5860b648d3\">\n",
              "    <div class=\"colab-df-container\">\n",
              "      <div>\n",
              "<style scoped>\n",
              "    .dataframe tbody tr th:only-of-type {\n",
              "        vertical-align: middle;\n",
              "    }\n",
              "\n",
              "    .dataframe tbody tr th {\n",
              "        vertical-align: top;\n",
              "    }\n",
              "\n",
              "    .dataframe thead th {\n",
              "        text-align: right;\n",
              "    }\n",
              "</style>\n",
              "<table border=\"1\" class=\"dataframe\">\n",
              "  <thead>\n",
              "    <tr style=\"text-align: right;\">\n",
              "      <th></th>\n",
              "      <th>Text</th>\n",
              "      <th>AI_or_NOT</th>\n",
              "    </tr>\n",
              "  </thead>\n",
              "  <tbody>\n",
              "    <tr>\n",
              "      <th>0</th>\n",
              "      <td>AI-driven content creation tools aid in storyt...</td>\n",
              "      <td>1</td>\n",
              "    </tr>\n",
              "    <tr>\n",
              "      <th>1</th>\n",
              "      <td>AI automates routine administrative tasks in b...</td>\n",
              "      <td>1</td>\n",
              "    </tr>\n",
              "    <tr>\n",
              "      <th>2</th>\n",
              "      <td>AI analyzes social trends for cultural insights.</td>\n",
              "      <td>1</td>\n",
              "    </tr>\n",
              "    <tr>\n",
              "      <th>3</th>\n",
              "      <td>The rhythmic lapping of waves against the shor...</td>\n",
              "      <td>0</td>\n",
              "    </tr>\n",
              "    <tr>\n",
              "      <th>4</th>\n",
              "      <td>AI analyzes climate data to address environmen...</td>\n",
              "      <td>1</td>\n",
              "    </tr>\n",
              "  </tbody>\n",
              "</table>\n",
              "</div>\n",
              "      <button class=\"colab-df-convert\" onclick=\"convertToInteractive('df-be234497-1976-411e-b18b-2d5860b648d3')\"\n",
              "              title=\"Convert this dataframe to an interactive table.\"\n",
              "              style=\"display:none;\">\n",
              "\n",
              "  <svg xmlns=\"http://www.w3.org/2000/svg\" height=\"24px\"viewBox=\"0 0 24 24\"\n",
              "       width=\"24px\">\n",
              "    <path d=\"M0 0h24v24H0V0z\" fill=\"none\"/>\n",
              "    <path d=\"M18.56 5.44l.94 2.06.94-2.06 2.06-.94-2.06-.94-.94-2.06-.94 2.06-2.06.94zm-11 1L8.5 8.5l.94-2.06 2.06-.94-2.06-.94L8.5 2.5l-.94 2.06-2.06.94zm10 10l.94 2.06.94-2.06 2.06-.94-2.06-.94-.94-2.06-.94 2.06-2.06.94z\"/><path d=\"M17.41 7.96l-1.37-1.37c-.4-.4-.92-.59-1.43-.59-.52 0-1.04.2-1.43.59L10.3 9.45l-7.72 7.72c-.78.78-.78 2.05 0 2.83L4 21.41c.39.39.9.59 1.41.59.51 0 1.02-.2 1.41-.59l7.78-7.78 2.81-2.81c.8-.78.8-2.07 0-2.86zM5.41 20L4 18.59l7.72-7.72 1.47 1.35L5.41 20z\"/>\n",
              "  </svg>\n",
              "      </button>\n",
              "\n",
              "\n",
              "\n",
              "    <div id=\"df-0b987d1c-64ca-42ab-9da6-039d034b06fb\">\n",
              "      <button class=\"colab-df-quickchart\" onclick=\"quickchart('df-0b987d1c-64ca-42ab-9da6-039d034b06fb')\"\n",
              "              title=\"Suggest charts.\"\n",
              "              style=\"display:none;\">\n",
              "\n",
              "<svg xmlns=\"http://www.w3.org/2000/svg\" height=\"24px\"viewBox=\"0 0 24 24\"\n",
              "     width=\"24px\">\n",
              "    <g>\n",
              "        <path d=\"M19 3H5c-1.1 0-2 .9-2 2v14c0 1.1.9 2 2 2h14c1.1 0 2-.9 2-2V5c0-1.1-.9-2-2-2zM9 17H7v-7h2v7zm4 0h-2V7h2v10zm4 0h-2v-4h2v4z\"/>\n",
              "    </g>\n",
              "</svg>\n",
              "      </button>\n",
              "    </div>\n",
              "\n",
              "<style>\n",
              "  .colab-df-quickchart {\n",
              "    background-color: #E8F0FE;\n",
              "    border: none;\n",
              "    border-radius: 50%;\n",
              "    cursor: pointer;\n",
              "    display: none;\n",
              "    fill: #1967D2;\n",
              "    height: 32px;\n",
              "    padding: 0 0 0 0;\n",
              "    width: 32px;\n",
              "  }\n",
              "\n",
              "  .colab-df-quickchart:hover {\n",
              "    background-color: #E2EBFA;\n",
              "    box-shadow: 0px 1px 2px rgba(60, 64, 67, 0.3), 0px 1px 3px 1px rgba(60, 64, 67, 0.15);\n",
              "    fill: #174EA6;\n",
              "  }\n",
              "\n",
              "  [theme=dark] .colab-df-quickchart {\n",
              "    background-color: #3B4455;\n",
              "    fill: #D2E3FC;\n",
              "  }\n",
              "\n",
              "  [theme=dark] .colab-df-quickchart:hover {\n",
              "    background-color: #434B5C;\n",
              "    box-shadow: 0px 1px 3px 1px rgba(0, 0, 0, 0.15);\n",
              "    filter: drop-shadow(0px 1px 2px rgba(0, 0, 0, 0.3));\n",
              "    fill: #FFFFFF;\n",
              "  }\n",
              "</style>\n",
              "\n",
              "    <script>\n",
              "      async function quickchart(key) {\n",
              "        const containerElement = document.querySelector('#' + key);\n",
              "        const charts = await google.colab.kernel.invokeFunction(\n",
              "            'suggestCharts', [key], {});\n",
              "      }\n",
              "    </script>\n",
              "\n",
              "      <script>\n",
              "\n",
              "function displayQuickchartButton(domScope) {\n",
              "  let quickchartButtonEl =\n",
              "    domScope.querySelector('#df-0b987d1c-64ca-42ab-9da6-039d034b06fb button.colab-df-quickchart');\n",
              "  quickchartButtonEl.style.display =\n",
              "    google.colab.kernel.accessAllowed ? 'block' : 'none';\n",
              "}\n",
              "\n",
              "        displayQuickchartButton(document);\n",
              "      </script>\n",
              "      <style>\n",
              "    .colab-df-container {\n",
              "      display:flex;\n",
              "      flex-wrap:wrap;\n",
              "      gap: 12px;\n",
              "    }\n",
              "\n",
              "    .colab-df-convert {\n",
              "      background-color: #E8F0FE;\n",
              "      border: none;\n",
              "      border-radius: 50%;\n",
              "      cursor: pointer;\n",
              "      display: none;\n",
              "      fill: #1967D2;\n",
              "      height: 32px;\n",
              "      padding: 0 0 0 0;\n",
              "      width: 32px;\n",
              "    }\n",
              "\n",
              "    .colab-df-convert:hover {\n",
              "      background-color: #E2EBFA;\n",
              "      box-shadow: 0px 1px 2px rgba(60, 64, 67, 0.3), 0px 1px 3px 1px rgba(60, 64, 67, 0.15);\n",
              "      fill: #174EA6;\n",
              "    }\n",
              "\n",
              "    [theme=dark] .colab-df-convert {\n",
              "      background-color: #3B4455;\n",
              "      fill: #D2E3FC;\n",
              "    }\n",
              "\n",
              "    [theme=dark] .colab-df-convert:hover {\n",
              "      background-color: #434B5C;\n",
              "      box-shadow: 0px 1px 3px 1px rgba(0, 0, 0, 0.15);\n",
              "      filter: drop-shadow(0px 1px 2px rgba(0, 0, 0, 0.3));\n",
              "      fill: #FFFFFF;\n",
              "    }\n",
              "  </style>\n",
              "\n",
              "      <script>\n",
              "        const buttonEl =\n",
              "          document.querySelector('#df-be234497-1976-411e-b18b-2d5860b648d3 button.colab-df-convert');\n",
              "        buttonEl.style.display =\n",
              "          google.colab.kernel.accessAllowed ? 'block' : 'none';\n",
              "\n",
              "        async function convertToInteractive(key) {\n",
              "          const element = document.querySelector('#df-be234497-1976-411e-b18b-2d5860b648d3');\n",
              "          const dataTable =\n",
              "            await google.colab.kernel.invokeFunction('convertToInteractive',\n",
              "                                                     [key], {});\n",
              "          if (!dataTable) return;\n",
              "\n",
              "          const docLinkHtml = 'Like what you see? Visit the ' +\n",
              "            '<a target=\"_blank\" href=https://colab.research.google.com/notebooks/data_table.ipynb>data table notebook</a>'\n",
              "            + ' to learn more about interactive tables.';\n",
              "          element.innerHTML = '';\n",
              "          dataTable['output_type'] = 'display_data';\n",
              "          await google.colab.output.renderOutput(dataTable, element);\n",
              "          const docLink = document.createElement('div');\n",
              "          docLink.innerHTML = docLinkHtml;\n",
              "          element.appendChild(docLink);\n",
              "        }\n",
              "      </script>\n",
              "    </div>\n",
              "  </div>\n"
            ],
            "text/plain": [
              "                                                Text  AI_or_NOT\n",
              "0  AI-driven content creation tools aid in storyt...          1\n",
              "1  AI automates routine administrative tasks in b...          1\n",
              "2   AI analyzes social trends for cultural insights.          1\n",
              "3  The rhythmic lapping of waves against the shor...          0\n",
              "4  AI analyzes climate data to address environmen...          1"
            ]
          },
          "execution_count": 5,
          "metadata": {},
          "output_type": "execute_result"
        }
      ],
      "source": [
        "df.head()"
      ]
    },
    {
      "cell_type": "code",
      "execution_count": null,
      "metadata": {
        "id": "RqDzMcAEpqWE"
      },
      "outputs": [],
      "source": [
        "train, val, test = np.split(\n",
        "    df.sample(frac=1), [int(0.8*len(df)), int(0.9*len(df))])"
      ]
    },
    {
      "cell_type": "code",
      "execution_count": null,
      "metadata": {
        "id": "RUS-Rz8ipyYN"
      },
      "outputs": [],
      "source": [
        "def df_to_dataset(dataframe, shuffle=True, batch_size=1024):\n",
        "    df = dataframe.copy()\n",
        "    labels = df.pop('AI_or_NOT')\n",
        "    df = df[\"Text\"]\n",
        "    ds = tf.data.Dataset.from_tensor_slices((df, labels))\n",
        "    if shuffle:\n",
        "        ds = ds.shuffle(buffer_size=len(dataframe))\n",
        "    ds = ds.batch(batch_size)\n",
        "    ds = ds.prefetch(tf.data.AUTOTUNE)\n",
        "    return ds"
      ]
    },
    {
      "cell_type": "code",
      "execution_count": null,
      "metadata": {
        "id": "Cv03cIJ7p3kL"
      },
      "outputs": [],
      "source": [
        "train_data = df_to_dataset(train)\n",
        "valid_data = df_to_dataset(val)\n",
        "test_data = df_to_dataset(test)"
      ]
    },
    {
      "cell_type": "code",
      "execution_count": null,
      "metadata": {
        "id": "aFFY90MwqBbr"
      },
      "outputs": [],
      "source": [
        "embedding = \"https://tfhub.dev/google/nnlm-en-dim50/2\"\n",
        "hub_layer = hub.KerasLayer(embedding, dtype=tf.string, trainable=True)"
      ]
    },
    {
      "cell_type": "code",
      "execution_count": null,
      "metadata": {
        "colab": {
          "base_uri": "https://localhost:8080/"
        },
        "id": "imn4qu2yqDyC",
        "outputId": "360ba27b-9de0-4e6c-c791-8ce6345038aa"
      },
      "outputs": [
        {
          "data": {
            "text/plain": [
              "<tf.Tensor: shape=(312, 50), dtype=float32, numpy=\n",
              "array([[ 0.37561384, -0.28319144, -0.03978822, ..., -0.04851056,\n",
              "        -0.10315518,  0.14732987],\n",
              "       [ 0.3945607 , -0.37376335, -0.01009167, ...,  0.04709339,\n",
              "         0.08845427,  0.11782895],\n",
              "       [ 0.21323925,  0.01797961, -0.0585965 , ..., -0.11429369,\n",
              "        -0.03126443,  0.24524811],\n",
              "       ...,\n",
              "       [ 0.2196854 , -0.23050898,  0.07717571, ...,  0.04041121,\n",
              "         0.35308257,  0.34707457],\n",
              "       [ 0.4513125 , -0.4132098 , -0.07258949, ...,  0.16440308,\n",
              "         0.07429157,  0.01368232],\n",
              "       [-0.16167596,  0.06801049, -0.06460145, ...,  0.25213754,\n",
              "        -0.18741864, -0.02523352]], dtype=float32)>"
            ]
          },
          "execution_count": 32,
          "metadata": {},
          "output_type": "execute_result"
        }
      ],
      "source": [
        "hub_layer(list(train_data)[0][0])"
      ]
    },
    {
      "cell_type": "code",
      "execution_count": null,
      "metadata": {
        "id": "1M_ZTwAgqGuV"
      },
      "outputs": [],
      "source": [
        "model = tf.keras.Sequential()\n",
        "model.add(hub_layer)\n",
        "model.add(tf.keras.layers.Dense(16, activation='relu'))\n",
        "model.add(tf.keras.layers.Dropout(0.4))\n",
        "model.add(tf.keras.layers.Dense(16, activation='relu'))\n",
        "model.add(tf.keras.layers.Dropout(0.4))\n",
        "model.add(tf.keras.layers.Dense(1, activation='sigmoid'))"
      ]
    },
    {
      "cell_type": "code",
      "execution_count": null,
      "metadata": {
        "id": "EpqaIGGhqJOI"
      },
      "outputs": [],
      "source": [
        "model.compile(optimizer=tf.keras.optimizers.Adam(learning_rate=0.001),\n",
        "              loss=tf.keras.losses.BinaryCrossentropy(),\n",
        "              metrics=['accuracy'])"
      ]
    },
    {
      "cell_type": "code",
      "execution_count": null,
      "metadata": {
        "colab": {
          "base_uri": "https://localhost:8080/"
        },
        "id": "a2IMJhYRqLay",
        "outputId": "0f96d102-90c7-4001-ae5e-9ef7d0491390"
      },
      "outputs": [
        {
          "name": "stdout",
          "output_type": "stream",
          "text": [
            "1/1 [==============================] - 2s 2s/step - loss: 0.6979 - accuracy: 0.5641\n"
          ]
        },
        {
          "data": {
            "text/plain": [
              "[0.6979112029075623, 0.5641025900840759]"
            ]
          },
          "execution_count": 35,
          "metadata": {},
          "output_type": "execute_result"
        }
      ],
      "source": [
        "model.evaluate(train_data)"
      ]
    },
    {
      "cell_type": "code",
      "execution_count": null,
      "metadata": {
        "colab": {
          "base_uri": "https://localhost:8080/"
        },
        "id": "-k5lhCrUqO4M",
        "outputId": "5502cde4-5bc1-4c1c-a2bd-eaf4dfcb9776"
      },
      "outputs": [
        {
          "name": "stdout",
          "output_type": "stream",
          "text": [
            "1/1 [==============================] - 0s 86ms/step - loss: 0.6855 - accuracy: 0.6154\n"
          ]
        },
        {
          "data": {
            "text/plain": [
              "[0.6854632496833801, 0.6153846383094788]"
            ]
          },
          "execution_count": 36,
          "metadata": {},
          "output_type": "execute_result"
        }
      ],
      "source": [
        "model.evaluate(valid_data)"
      ]
    },
    {
      "cell_type": "code",
      "execution_count": null,
      "metadata": {
        "id": "29_UinObqQ8a"
      },
      "outputs": [],
      "source": [
        "history = model.fit(train_data, epochs=100, validation_data=valid_data)"
      ]
    },
    {
      "cell_type": "code",
      "execution_count": null,
      "metadata": {
        "colab": {
          "base_uri": "https://localhost:8080/"
        },
        "id": "hx60Z1ehrM9s",
        "outputId": "584bb5c8-b072-4de0-e415-68f549ede01d"
      },
      "outputs": [
        {
          "name": "stdout",
          "output_type": "stream",
          "text": [
            "1/1 [==============================] - 0s 194ms/step - loss: 0.0820 - accuracy: 0.9487\n"
          ]
        },
        {
          "data": {
            "text/plain": [
              "[0.08200190961360931, 0.9487179517745972]"
            ]
          },
          "execution_count": 39,
          "metadata": {},
          "output_type": "execute_result"
        }
      ],
      "source": [
        "model.evaluate(test_data)"
      ]
    },
    {
      "cell_type": "code",
      "execution_count": null,
      "metadata": {
        "colab": {
          "base_uri": "https://localhost:8080/"
        },
        "id": "cQm2olW45kpR",
        "outputId": "499d9fb3-35c7-4d18-a31b-8875931e9646"
      },
      "outputs": [
        {
          "data": {
            "text/plain": [
              "<_PrefetchDataset element_spec=(TensorSpec(shape=(None,), dtype=tf.string, name=None), TensorSpec(shape=(None,), dtype=tf.int64, name=None))>"
            ]
          },
          "execution_count": 47,
          "metadata": {},
          "output_type": "execute_result"
        }
      ],
      "source": [
        "test_data."
      ]
    },
    {
      "cell_type": "code",
      "execution_count": null,
      "metadata": {
        "colab": {
          "base_uri": "https://localhost:8080/"
        },
        "id": "UxldFAAoraIX",
        "outputId": "d9979592-8708-4c5c-e639-266be9f2f625"
      },
      "outputs": [
        {
          "name": "stdout",
          "output_type": "stream",
          "text": [
            "Model: \"sequential\"\n",
            "_________________________________________________________________\n",
            " Layer (type)                Output Shape              Param #   \n",
            "=================================================================\n",
            " keras_layer (KerasLayer)    (None, 50)                48190600  \n",
            "                                                                 \n",
            " dense (Dense)               (None, 16)                816       \n",
            "                                                                 \n",
            " dropout (Dropout)           (None, 16)                0         \n",
            "                                                                 \n",
            " dense_1 (Dense)             (None, 16)                272       \n",
            "                                                                 \n",
            " dropout_1 (Dropout)         (None, 16)                0         \n",
            "                                                                 \n",
            " dense_2 (Dense)             (None, 1)                 17        \n",
            "                                                                 \n",
            "=================================================================\n",
            "Total params: 48,191,705\n",
            "Trainable params: 48,191,705\n",
            "Non-trainable params: 0\n",
            "_________________________________________________________________\n"
          ]
        }
      ],
      "source": [
        "model.summary()"
      ]
    },
    {
      "cell_type": "code",
      "execution_count": null,
      "metadata": {
        "id": "ftV3z3vWroQx"
      },
      "outputs": [],
      "source": [
        "model.save('my_model.keras')"
      ]
    },
    {
      "cell_type": "code",
      "execution_count": null,
      "metadata": {
        "id": "7UKPQa8Br51g"
      },
      "outputs": [],
      "source": [
        "model.save('my_model.h5')"
      ]
    },
    {
      "cell_type": "code",
      "execution_count": null,
      "metadata": {
        "id": "RI_pRb0y3JS-"
      },
      "outputs": [],
      "source": [
        "!pip install tensorflowjs"
      ]
    },
    {
      "cell_type": "code",
      "execution_count": null,
      "metadata": {
        "id": "jOBOdGtB3Kq7"
      },
      "outputs": [],
      "source": [
        "!mkdir model\n",
        "!tensorflowjs_converter --input_format keras my_model.h5 model/\n",
        "!zip -r model.zip model\n"
      ]
    },
    {
      "cell_type": "code",
      "execution_count": null,
      "metadata": {
        "colab": {
          "base_uri": "https://localhost:8080/",
          "height": 17
        },
        "id": "7yHtP6783s8o",
        "outputId": "29af9452-3b4d-42a2-a858-e0ec8281b455"
      },
      "outputs": [
        {
          "data": {
            "application/javascript": "\n    async function download(id, filename, size) {\n      if (!google.colab.kernel.accessAllowed) {\n        return;\n      }\n      const div = document.createElement('div');\n      const label = document.createElement('label');\n      label.textContent = `Downloading \"${filename}\": `;\n      div.appendChild(label);\n      const progress = document.createElement('progress');\n      progress.max = size;\n      div.appendChild(progress);\n      document.body.appendChild(div);\n\n      const buffers = [];\n      let downloaded = 0;\n\n      const channel = await google.colab.kernel.comms.open(id);\n      // Send a message to notify the kernel that we're ready.\n      channel.send({})\n\n      for await (const message of channel.messages) {\n        // Send a message to notify the kernel that we're ready.\n        channel.send({})\n        if (message.buffers) {\n          for (const buffer of message.buffers) {\n            buffers.push(buffer);\n            downloaded += buffer.byteLength;\n            progress.value = downloaded;\n          }\n        }\n      }\n      const blob = new Blob(buffers, {type: 'application/binary'});\n      const a = document.createElement('a');\n      a.href = window.URL.createObjectURL(blob);\n      a.download = filename;\n      div.appendChild(a);\n      a.click();\n      div.remove();\n    }\n  ",
            "text/plain": [
              "<IPython.core.display.Javascript object>"
            ]
          },
          "metadata": {},
          "output_type": "display_data"
        },
        {
          "data": {
            "application/javascript": "download(\"download_bcdb31f6-cf20-4c82-9d62-864da567de8b\", \"model.zip\", 178853765)",
            "text/plain": [
              "<IPython.core.display.Javascript object>"
            ]
          },
          "metadata": {},
          "output_type": "display_data"
        }
      ],
      "source": [
        "from google.colab import files\n",
        "files.download('model.zip')"
      ]
    },
    {
      "cell_type": "code",
      "execution_count": null,
      "metadata": {
        "id": "GBV2UkAp1tgx"
      },
      "outputs": [],
      "source": [
        "X_train = [\n",
        "    \"\"\"I am thrilled to share that I am Writing About Sundar Pichai, the visionary leader behind Google 🎉🏆\n",
        "\n",
        "Sundar Pichai, a brilliant mind and a true inspiration, has consistently demonstrated his outstanding leadership skills and remarkable contributions to the tech industry. As the CEO of Google, he has steered the company to incredible heights, revolutionizing the way we connect, learn, and access information.\n",
        "\n",
        "Under Sundar Pichai sir guidance, Google has continued to innovate and expand its products and services, touching the lives of billions of people worldwide. From the development of cutting-edge technologies like artificial intelligence and machine learning to the advancement of Google's core products such as Search, Maps, and YouTube, Pichai's vision has transformed the digital landscape.\n",
        "\n",
        "Sundar Pichai's commitment to diversity and inclusion is also commendable. He has worked tirelessly to foster an inclusive culture within Google, empowering individuals from diverse backgrounds and perspectives to thrive and make a meaningful impact. His dedication to creating opportunities for underrepresented groups and addressing societal challenges through technology is truly inspiring.\n",
        "\n",
        "Beyond his role at Google, Pichai is actively involved in advocating for the importance of computer science education and digital literacy. He has been instrumental in launching initiatives that promote access to technology education, equipping individuals with the skills they need to succeed in today's digital age.\n",
        "\n",
        "Sundar Pichai's visionary leadership, unwavering dedication, and undeniable impact on the tech industry make him a deserving recipient of this prestigious CEO of the Year award. His ability to navigate challenges, embrace innovation, and drive positive change is an inspiration to us all.\n",
        "\n",
        "#SundarPichai Google #inspiration #Leadership\n",
        "\"\"\",\n",
        "    \"This book is a great read.\",\n",
        "    \"\"\"\n",
        "    Hello Connections!!\n",
        "I am elated to share successful completion of my 1 month internship at CodSoft as a Data Science Intern!\n",
        "During my internship, I worked on a variety of projects. I am grateful for the opportunity to have interned at CodSoft , and I am excited to use the skills and experience I gained to pursue my career in data science.\n",
        "\n",
        "#internship #datascience #dataanalysis #datavisualization #python #experience #codsoft\n",
        "\n",
        "    \"\"\",\n",
        "    \"\"\"\n",
        "    Constitution of India is a supreme law of the land. We all know it. We all see what is written in Indian Constitution through Bare Acts , Books etc but yesterday we got an opportunity to see the replica of Original Constitution. Its an amazing fact that in starting of each part there is a image staring from Mohanjodaro Civilization to Vedic kal to Ramayan to Mahabharat. It have a image of Gautam Budha , Bhagwaan Mahavir, Great King Ashoka, Shivaji Maharaj etc. Each photo have its own relevance with the Constitution. For this I thank Rajasthan Education Trust ,Jaipur for organising an Exhibition and Lecture to our first year student. Definitely it's a good thing that at very beginning of there legal carrier they came to know these interesting facts.My heartfelt thanks to Adv. Surya Pratap Singh Rajawat for such a insightful lecture. Thank you RUPALI CHAUHAN from Rajasthan Education Trust for organizing an event. Hope to do many more with you.\n",
        "\n",
        "    \"\"\",\n",
        "    \"Artificial intelligence is a complex field.\"\n",
        "]\n",
        "\n",
        "\n",
        "def df_to_dataset(dataframe, shuffle=True, batch_size=1024):\n",
        "    df = dataframe.copy()\n",
        "    df = df[\"Text\"]\n",
        "    ds = tf.data.Dataset.from_tensor_slices(df)\n",
        "    ds = ds.prefetch(tf.data.AUTOTUNE)\n",
        "    return ds\n",
        "\n",
        "\n",
        "single_input_df = pd.DataFrame(X_train, columns=['Text'])  # Set a dummy label\n",
        "me = df_to_dataset(single_input_df)"
      ]
    },
    {
      "cell_type": "code",
      "execution_count": null,
      "metadata": {
        "colab": {
          "base_uri": "https://localhost:8080/",
          "height": 339
        },
        "id": "3Qcm_edk6mCG",
        "outputId": "bd405674-8813-4083-a02d-ecba7e741f68"
      },
      "outputs": [
        {
          "ename": "OSError",
          "evalue": "ignored",
          "output_type": "error",
          "traceback": [
            "\u001b[0;31m---------------------------------------------------------------------------\u001b[0m",
            "\u001b[0;31mOSError\u001b[0m                                   Traceback (most recent call last)",
            "\u001b[0;32m<ipython-input-5-6d687a02d0a9>\u001b[0m in \u001b[0;36m<cell line: 1>\u001b[0;34m()\u001b[0m\n\u001b[0;32m----> 1\u001b[0;31m savedModel=tf.keras.saving.load_model(\"/content/my_model.h5\", custom_objects={'KerasLayer':hub.KerasLayer}\n\u001b[0m\u001b[1;32m      2\u001b[0m )\n",
            "\u001b[0;32m/usr/local/lib/python3.10/dist-packages/keras/saving/saving_api.py\u001b[0m in \u001b[0;36mload_model\u001b[0;34m(filepath, custom_objects, compile, safe_mode, **kwargs)\u001b[0m\n\u001b[1;32m    210\u001b[0m \u001b[0;34m\u001b[0m\u001b[0m\n\u001b[1;32m    211\u001b[0m     \u001b[0;31m# Legacy case.\u001b[0m\u001b[0;34m\u001b[0m\u001b[0;34m\u001b[0m\u001b[0m\n\u001b[0;32m--> 212\u001b[0;31m     return legacy_sm_saving_lib.load_model(\n\u001b[0m\u001b[1;32m    213\u001b[0m         \u001b[0mfilepath\u001b[0m\u001b[0;34m,\u001b[0m \u001b[0mcustom_objects\u001b[0m\u001b[0;34m=\u001b[0m\u001b[0mcustom_objects\u001b[0m\u001b[0;34m,\u001b[0m \u001b[0mcompile\u001b[0m\u001b[0;34m=\u001b[0m\u001b[0mcompile\u001b[0m\u001b[0;34m,\u001b[0m \u001b[0;34m**\u001b[0m\u001b[0mkwargs\u001b[0m\u001b[0;34m\u001b[0m\u001b[0;34m\u001b[0m\u001b[0m\n\u001b[1;32m    214\u001b[0m     )\n",
            "\u001b[0;32m/usr/local/lib/python3.10/dist-packages/keras/utils/traceback_utils.py\u001b[0m in \u001b[0;36merror_handler\u001b[0;34m(*args, **kwargs)\u001b[0m\n\u001b[1;32m     68\u001b[0m             \u001b[0;31m# To get the full stack trace, call:\u001b[0m\u001b[0;34m\u001b[0m\u001b[0;34m\u001b[0m\u001b[0m\n\u001b[1;32m     69\u001b[0m             \u001b[0;31m# `tf.debugging.disable_traceback_filtering()`\u001b[0m\u001b[0;34m\u001b[0m\u001b[0;34m\u001b[0m\u001b[0m\n\u001b[0;32m---> 70\u001b[0;31m             \u001b[0;32mraise\u001b[0m \u001b[0me\u001b[0m\u001b[0;34m.\u001b[0m\u001b[0mwith_traceback\u001b[0m\u001b[0;34m(\u001b[0m\u001b[0mfiltered_tb\u001b[0m\u001b[0;34m)\u001b[0m \u001b[0;32mfrom\u001b[0m \u001b[0;32mNone\u001b[0m\u001b[0;34m\u001b[0m\u001b[0;34m\u001b[0m\u001b[0m\n\u001b[0m\u001b[1;32m     71\u001b[0m         \u001b[0;32mfinally\u001b[0m\u001b[0;34m:\u001b[0m\u001b[0;34m\u001b[0m\u001b[0;34m\u001b[0m\u001b[0m\n\u001b[1;32m     72\u001b[0m             \u001b[0;32mdel\u001b[0m \u001b[0mfiltered_tb\u001b[0m\u001b[0;34m\u001b[0m\u001b[0;34m\u001b[0m\u001b[0m\n",
            "\u001b[0;32m/usr/local/lib/python3.10/dist-packages/keras/saving/legacy/save.py\u001b[0m in \u001b[0;36mload_model\u001b[0;34m(filepath, custom_objects, compile, options)\u001b[0m\n\u001b[1;32m    228\u001b[0m                     \u001b[0;32mif\u001b[0m \u001b[0misinstance\u001b[0m\u001b[0;34m(\u001b[0m\u001b[0mfilepath_str\u001b[0m\u001b[0;34m,\u001b[0m \u001b[0mstr\u001b[0m\u001b[0;34m)\u001b[0m\u001b[0;34m:\u001b[0m\u001b[0;34m\u001b[0m\u001b[0;34m\u001b[0m\u001b[0m\n\u001b[1;32m    229\u001b[0m                         \u001b[0;32mif\u001b[0m \u001b[0;32mnot\u001b[0m \u001b[0mtf\u001b[0m\u001b[0;34m.\u001b[0m\u001b[0mio\u001b[0m\u001b[0;34m.\u001b[0m\u001b[0mgfile\u001b[0m\u001b[0;34m.\u001b[0m\u001b[0mexists\u001b[0m\u001b[0;34m(\u001b[0m\u001b[0mfilepath_str\u001b[0m\u001b[0;34m)\u001b[0m\u001b[0;34m:\u001b[0m\u001b[0;34m\u001b[0m\u001b[0;34m\u001b[0m\u001b[0m\n\u001b[0;32m--> 230\u001b[0;31m                             raise IOError(\n\u001b[0m\u001b[1;32m    231\u001b[0m                                 \u001b[0;34mf\"No file or directory found at {filepath_str}\"\u001b[0m\u001b[0;34m\u001b[0m\u001b[0;34m\u001b[0m\u001b[0m\n\u001b[1;32m    232\u001b[0m                             )\n",
            "\u001b[0;31mOSError\u001b[0m: No file or directory found at /content/my_model.h5"
          ]
        }
      ],
      "source": [
        "savedModel = tf.keras.saving.load_model(\"/content/my_model.h5\", custom_objects={'KerasLayer': hub.KerasLayer}\n",
        "                                        )"
      ]
    },
    {
      "cell_type": "code",
      "execution_count": null,
      "metadata": {
        "colab": {
          "base_uri": "https://localhost:8080/"
        },
        "id": "C5nDRc397Xs6",
        "outputId": "2950c4e6-3645-4449-9632-4c82770805f1"
      },
      "outputs": [
        {
          "name": "stdout",
          "output_type": "stream",
          "text": [
            "Model: \"sequential\"\n",
            "_________________________________________________________________\n",
            " Layer (type)                Output Shape              Param #   \n",
            "=================================================================\n",
            " keras_layer (KerasLayer)    (None, 50)                48190600  \n",
            "                                                                 \n",
            " dense (Dense)               (None, 16)                816       \n",
            "                                                                 \n",
            " dropout (Dropout)           (None, 16)                0         \n",
            "                                                                 \n",
            " dense_1 (Dense)             (None, 16)                272       \n",
            "                                                                 \n",
            " dropout_1 (Dropout)         (None, 16)                0         \n",
            "                                                                 \n",
            " dense_2 (Dense)             (None, 1)                 17        \n",
            "                                                                 \n",
            "=================================================================\n",
            "Total params: 48,191,705\n",
            "Trainable params: 48,191,705\n",
            "Non-trainable params: 0\n",
            "_________________________________________________________________\n"
          ]
        }
      ],
      "source": [
        "savedModel.summary()"
      ]
    },
    {
      "cell_type": "code",
      "execution_count": null,
      "metadata": {
        "colab": {
          "base_uri": "https://localhost:8080/"
        },
        "id": "N2lWYFf47eUT",
        "outputId": "14458955-dfc8-4800-ea01-eb3bd4a46d56"
      },
      "outputs": [
        {
          "name": "stdout",
          "output_type": "stream",
          "text": [
            "1/1 [==============================] - 0s 183ms/step\n",
            "tf.Tensor(\n",
            "[b'This book is a great read.'\n",
            " b'Artificial intelligence is a complex field.'\n",
            " b'Machine learning algorithms are fascinating.'\n",
            " b'AI research is advancing rapidly.' b'I went for a walk in the park.'], shape=(5,), dtype=string)\n",
            "[[0.16545697]\n",
            " [0.95117277]\n",
            " [0.9635157 ]\n",
            " [0.9605971 ]\n",
            " [0.25373858]]\n"
          ]
        }
      ],
      "source": [
        "for data in me:\n",
        "    predictions = savedModel.predict(data)\n",
        "    print(data)\n",
        "    print(predictions)"
      ]
    }
  ],
  "metadata": {
    "colab": {
      "provenance": []
    },
    "kernelspec": {
      "display_name": "Python 3",
      "name": "python3"
    },
    "language_info": {
      "name": "python"
    }
  },
  "nbformat": 4,
  "nbformat_minor": 0
}
